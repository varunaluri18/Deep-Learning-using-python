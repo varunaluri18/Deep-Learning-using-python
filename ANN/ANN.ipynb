{
  "nbformat": 4,
  "nbformat_minor": 0,
  "metadata": {
    "colab": {
      "name": "ANN",
      "provenance": []
    },
    "kernelspec": {
      "name": "python3",
      "display_name": "Python 3"
    },
    "accelerator": "GPU"
  },
  "cells": [
    {
      "cell_type": "code",
      "metadata": {
        "id": "bBZ0YlqFrWQn",
        "colab_type": "code",
        "colab": {}
      },
      "source": [
        "import pandas as pd\n",
        "import numpy as np\n",
        "import matplotlib.pyplot as plt\n",
        "import seaborn as sns"
      ],
      "execution_count": 0,
      "outputs": []
    },
    {
      "cell_type": "code",
      "metadata": {
        "id": "sTSj7bCJt_6q",
        "colab_type": "code",
        "colab": {}
      },
      "source": [
        "var=pd.read_csv('/content/Churn_Modelling.csv')"
      ],
      "execution_count": 0,
      "outputs": []
    },
    {
      "cell_type": "code",
      "metadata": {
        "id": "5U7YbHySuXwx",
        "colab_type": "code",
        "colab": {
          "base_uri": "https://localhost:8080/",
          "height": 34
        },
        "outputId": "191a0308-0d5e-4768-9e13-a5483087cae5"
      },
      "source": [
        "var.shape"
      ],
      "execution_count": 35,
      "outputs": [
        {
          "output_type": "execute_result",
          "data": {
            "text/plain": [
              "(10000, 14)"
            ]
          },
          "metadata": {
            "tags": []
          },
          "execution_count": 35
        }
      ]
    },
    {
      "cell_type": "code",
      "metadata": {
        "id": "T3q2h_cGuhqx",
        "colab_type": "code",
        "colab": {}
      },
      "source": [
        "X = var.iloc[:, 3:13]\n",
        "y = var.iloc[:, 13]"
      ],
      "execution_count": 0,
      "outputs": []
    },
    {
      "cell_type": "code",
      "metadata": {
        "id": "b2ZcmyAqvh0X",
        "colab_type": "code",
        "colab": {
          "base_uri": "https://localhost:8080/",
          "height": 34
        },
        "outputId": "08c6e281-3855-443a-c774-283eb5dea203"
      },
      "source": [
        "X.shape"
      ],
      "execution_count": 37,
      "outputs": [
        {
          "output_type": "execute_result",
          "data": {
            "text/plain": [
              "(10000, 10)"
            ]
          },
          "metadata": {
            "tags": []
          },
          "execution_count": 37
        }
      ]
    },
    {
      "cell_type": "code",
      "metadata": {
        "id": "oVCEVXj9u2cy",
        "colab_type": "code",
        "colab": {}
      },
      "source": [
        "geography=pd.get_dummies(X[\"Geography\"],drop_first=True)\n",
        "gender=pd.get_dummies(X['Gender'],drop_first=True)"
      ],
      "execution_count": 0,
      "outputs": []
    },
    {
      "cell_type": "code",
      "metadata": {
        "id": "WPayO69cu8a5",
        "colab_type": "code",
        "colab": {}
      },
      "source": [
        "X=pd.concat([X,geography,gender],axis=1)\n",
        "X=X.drop(['Geography','Gender'],axis=1)"
      ],
      "execution_count": 0,
      "outputs": []
    },
    {
      "cell_type": "code",
      "metadata": {
        "id": "os_f0LEQu-Tq",
        "colab_type": "code",
        "colab": {
          "base_uri": "https://localhost:8080/",
          "height": 34
        },
        "outputId": "30174d3e-40b8-4358-8ca8-768bf8f05b9a"
      },
      "source": [
        "X.shape"
      ],
      "execution_count": 40,
      "outputs": [
        {
          "output_type": "execute_result",
          "data": {
            "text/plain": [
              "(10000, 11)"
            ]
          },
          "metadata": {
            "tags": []
          },
          "execution_count": 40
        }
      ]
    },
    {
      "cell_type": "code",
      "metadata": {
        "id": "rwbQVhp4vbuN",
        "colab_type": "code",
        "colab": {}
      },
      "source": [
        "from sklearn.model_selection import train_test_split\n",
        "X_train, X_test, y_train, y_test = train_test_split(X,y,test_size=0.20,random_state=0)"
      ],
      "execution_count": 0,
      "outputs": []
    },
    {
      "cell_type": "code",
      "metadata": {
        "id": "YUlE-L-wwC7N",
        "colab_type": "code",
        "colab": {}
      },
      "source": [
        "from sklearn.preprocessing import StandardScaler\n",
        "sc = StandardScaler()\n",
        "X_train = sc.fit_transform(X_train)\n",
        "X_test = sc.transform(X_test)"
      ],
      "execution_count": 0,
      "outputs": []
    },
    {
      "cell_type": "code",
      "metadata": {
        "id": "pbeGITABwGme",
        "colab_type": "code",
        "colab": {}
      },
      "source": [
        "import keras\n",
        "from keras.models import Sequential\n",
        "from keras.layers import Dense\n",
        "from keras.layers import LeakyReLU,PReLU,ELU\n",
        "from keras.layers import Dropout"
      ],
      "execution_count": 0,
      "outputs": []
    },
    {
      "cell_type": "code",
      "metadata": {
        "id": "UcDBaHOvwOvw",
        "colab_type": "code",
        "colab": {}
      },
      "source": [
        "# Initialising the ANN\n",
        "classifier = Sequential()"
      ],
      "execution_count": 0,
      "outputs": []
    },
    {
      "cell_type": "code",
      "metadata": {
        "id": "GCs-H4SowZ0n",
        "colab_type": "code",
        "colab": {}
      },
      "source": [
        "# Adding the input layer and the first hidden layer\n",
        "classifier.add(Dense(output_dim = 6, init = 'he_uniform',activation='relu',input_dim = 11))"
      ],
      "execution_count": 0,
      "outputs": []
    },
    {
      "cell_type": "code",
      "metadata": {
        "id": "cZIJ_Rpywfg2",
        "colab_type": "code",
        "colab": {}
      },
      "source": [
        "# Adding the second hidden layer\n",
        "classifier.add(Dense(output_dim = 6, init = 'he_uniform',activation='relu'))"
      ],
      "execution_count": 0,
      "outputs": []
    },
    {
      "cell_type": "code",
      "metadata": {
        "id": "uxRNV_DOwi2n",
        "colab_type": "code",
        "colab": {}
      },
      "source": [
        "# Adding the output layer\n",
        "classifier.add(Dense(output_dim = 1, init = 'glorot_uniform', activation = 'sigmoid'))"
      ],
      "execution_count": 0,
      "outputs": []
    },
    {
      "cell_type": "code",
      "metadata": {
        "id": "p2b6rzAkwlTw",
        "colab_type": "code",
        "colab": {}
      },
      "source": [
        "# Compiling the ANN\n",
        "classifier.compile(optimizer = 'Adamax', loss = 'binary_crossentropy', metrics = ['accuracy'])"
      ],
      "execution_count": 0,
      "outputs": []
    },
    {
      "cell_type": "code",
      "metadata": {
        "id": "VQwdaDPawoQh",
        "colab_type": "code",
        "colab": {
          "base_uri": "https://localhost:8080/",
          "height": 428
        },
        "outputId": "1591f909-d7b5-49a1-dbae-9d7b0993100e"
      },
      "source": [
        "# Fitting the ANN to the Training set\n",
        "model_history=classifier.fit(X_train, y_train,validation_split=0.33, batch_size = 10, nb_epoch = 10)"
      ],
      "execution_count": 56,
      "outputs": [
        {
          "output_type": "stream",
          "text": [
            "Train on 5359 samples, validate on 2641 samples\n",
            "Epoch 1/10\n",
            " 390/5359 [=>............................] - ETA: 2s - loss: 0.3067 - acc: 0.8795"
          ],
          "name": "stdout"
        },
        {
          "output_type": "stream",
          "text": [
            "/usr/local/lib/python3.6/dist-packages/ipykernel_launcher.py:1: UserWarning: The `nb_epoch` argument in `fit` has been renamed `epochs`.\n",
            "  \"\"\"Entry point for launching an IPython kernel.\n"
          ],
          "name": "stderr"
        },
        {
          "output_type": "stream",
          "text": [
            "5359/5359 [==============================] - 2s 452us/step - loss: 0.3282 - acc: 0.8627 - val_loss: 0.3571 - val_acc: 0.8527\n",
            "Epoch 2/10\n",
            "5359/5359 [==============================] - 2s 455us/step - loss: 0.3284 - acc: 0.8634 - val_loss: 0.3572 - val_acc: 0.8512\n",
            "Epoch 3/10\n",
            "5359/5359 [==============================] - 2s 384us/step - loss: 0.3283 - acc: 0.8627 - val_loss: 0.3564 - val_acc: 0.8523\n",
            "Epoch 4/10\n",
            "5359/5359 [==============================] - 2s 388us/step - loss: 0.3280 - acc: 0.8632 - val_loss: 0.3566 - val_acc: 0.8550\n",
            "Epoch 5/10\n",
            "5359/5359 [==============================] - 2s 409us/step - loss: 0.3277 - acc: 0.8638 - val_loss: 0.3570 - val_acc: 0.8561\n",
            "Epoch 6/10\n",
            "5359/5359 [==============================] - 2s 398us/step - loss: 0.3277 - acc: 0.8645 - val_loss: 0.3587 - val_acc: 0.8523\n",
            "Epoch 7/10\n",
            "5359/5359 [==============================] - 2s 416us/step - loss: 0.3278 - acc: 0.8649 - val_loss: 0.3566 - val_acc: 0.8531\n",
            "Epoch 8/10\n",
            "5359/5359 [==============================] - 2s 402us/step - loss: 0.3277 - acc: 0.8623 - val_loss: 0.3563 - val_acc: 0.8535\n",
            "Epoch 9/10\n",
            "5359/5359 [==============================] - 2s 424us/step - loss: 0.3278 - acc: 0.8647 - val_loss: 0.3564 - val_acc: 0.8542\n",
            "Epoch 10/10\n",
            "5359/5359 [==============================] - 2s 424us/step - loss: 0.3277 - acc: 0.8636 - val_loss: 0.3562 - val_acc: 0.8538\n"
          ],
          "name": "stdout"
        }
      ]
    },
    {
      "cell_type": "code",
      "metadata": {
        "id": "Je7SlaT8wr51",
        "colab_type": "code",
        "colab": {}
      },
      "source": [
        "# Predicting the Test set results\n",
        "y_pred = classifier.predict(X_test)\n",
        "y_pred = (y_pred > 0.5)"
      ],
      "execution_count": 0,
      "outputs": []
    },
    {
      "cell_type": "code",
      "metadata": {
        "id": "CAX-s6XDx18O",
        "colab_type": "code",
        "colab": {}
      },
      "source": [
        "# Making the Confusion Matrix\n",
        "from sklearn.metrics import confusion_matrix\n",
        "cm = confusion_matrix(y_test, y_pred)"
      ],
      "execution_count": 0,
      "outputs": []
    },
    {
      "cell_type": "code",
      "metadata": {
        "id": "JBzTQDBEx31s",
        "colab_type": "code",
        "colab": {}
      },
      "source": [
        "# Calculate the Accuracy\n",
        "from sklearn.metrics import accuracy_score\n",
        "score=accuracy_score(y_pred,y_test)"
      ],
      "execution_count": 0,
      "outputs": []
    },
    {
      "cell_type": "code",
      "metadata": {
        "id": "YuXi5pFox5ND",
        "colab_type": "code",
        "colab": {
          "base_uri": "https://localhost:8080/",
          "height": 51
        },
        "outputId": "f4708e5e-d084-4ff2-e2e9-9c17c1f1c18d"
      },
      "source": [
        "cm"
      ],
      "execution_count": 67,
      "outputs": [
        {
          "output_type": "execute_result",
          "data": {
            "text/plain": [
              "array([[1538,   57],\n",
              "       [ 206,  199]])"
            ]
          },
          "metadata": {
            "tags": []
          },
          "execution_count": 67
        }
      ]
    },
    {
      "cell_type": "code",
      "metadata": {
        "id": "B4xlrdzgx7M5",
        "colab_type": "code",
        "colab": {
          "base_uri": "https://localhost:8080/",
          "height": 34
        },
        "outputId": "8df46f02-030e-4298-d98d-f171d4e84745"
      },
      "source": [
        "score"
      ],
      "execution_count": 68,
      "outputs": [
        {
          "output_type": "execute_result",
          "data": {
            "text/plain": [
              "0.8685"
            ]
          },
          "metadata": {
            "tags": []
          },
          "execution_count": 68
        }
      ]
    }
  ]
}